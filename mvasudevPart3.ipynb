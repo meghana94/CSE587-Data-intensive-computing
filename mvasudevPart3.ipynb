{
 "cells": [
  {
   "cell_type": "markdown",
   "metadata": {},
   "source": [
    "# CSE4/587 DATA-INTENSIVE COMPUTING SPRING 2018"
   ]
  },
  {
   "cell_type": "markdown",
   "metadata": {},
   "source": [
    "# Twitter Application Development \n",
    "\n",
    "We will develop applications that are “data clients” for twitter data. Twitter supports many APIs, we will use Search API that is a part of the REST API"
   ]
  },
  {
   "cell_type": "markdown",
   "metadata": {},
   "source": [
    "# DATA COLLECTION AND EXPLORATORY DATA ANALYSIS\n",
    "---------------Meghana Vasudeva---------University at Buffalo---------------CSE587------------------------------------------\n",
    "\n",
    "# The lab goals will be accomplished through these specific objectives:\n",
    "1. Educate ourselves about influenza or flu that is rampant this season in the USA. In general, be cognizant of what is going on in world around you.\n",
    "2. Familiarize ourselves with R language through Jupyter environment.\n",
    "4. Exploring the real flu data, and conducting analysis performed by experts in Center for Disease Control (CDC) and related organizations.\n",
    "5. Collected data by querying Twitter REST API. \n",
    "6. Processed data using twitteR library package of R.\n",
    "7. Visualized geo spatial information extracted from the tweets using geo-map libraries of R: ggplot2, ggmap, maps,and maptools.\n",
    "8. Compared CDC flu map with your own home-brewed flu map of the USA derived from the twitter data you obtained\n"
   ]
  },
  {
   "cell_type": "code",
   "execution_count": null,
   "metadata": {},
   "outputs": [],
   "source": [
    "\n",
    "#This code was to get the tweets from Twitter with our authentication credentials. We use rtweet library for this purpose.\n",
    "\n",
    "library(rtweet)\n",
    "create_token(\n",
    "  app = \"Meghana_CSE_DIC\",\n",
    "  consumer_key = \"5X1UGbcSIOL4UVZBCwz0QDExz  \",\n",
    "  consumer_secret = \"zIJFYt7vPjdxUXUaZ1bOjITD113uEQOzQ88W87zh2ZH49tayG0\",\n",
    "  access_token = \"2648432046-f1SpAPzFj4cghNyoHObiy3X42kuSMyekpIWmFoz\",\n",
    "  access_secret = \"uiHCHoQqb9EpPjSnPxnsEdEyRS4UgKZAGFRTArtxssWsH\",\n",
    "  set_renv = TRUE)\n",
    "\n",
    "# Next \n",
    "\n",
    "tweets_Flu <- search_tweets(q=\"Flu OR flu OR #flu\" , n = 18000, geocode = lookup_coords('usa'), lang = \"en\",include_rts = FALSE)\n",
    "tweets.df <- as.data.frame(tweets)\n",
    "tab <- table(tweets.df)\n",
    "write.csv(tweets.df$location, \"flutweets_flu_and_influenza.csv\")\n",
    "\n",
    "\n",
    "tweets_Influenza3 <- search_tweets(q= \"avian OR influenza OR H1N1 OR cough OR cold OR seasonal flu OR bird flu OR #cough OR #cold\" , n = 10000, geocode = lookup_coords('usa'), lang = \"en\",include_rts = FALSE, since = '2019-01-01')\n",
    "tweets_fluinfuenza3.df <- as.data.frame(tweets_Influenza3)\n",
    "tab <- table(tweets_fluinfuenza3.df)\n",
    "write.csv(tweets_fluinfuenza3.df$location, \"flutweets_influenza.csv\")\n"
   ]
  },
  {
   "cell_type": "code",
   "execution_count": null,
   "metadata": {},
   "outputs": [],
   "source": [
    "# in this part i have loaded the data and cleaned the data and used revgeo to get states except from longitude and latiude.\n",
    "\n",
    "\n",
    "state <- read.csv(file.choose())\n",
    "print(state)\n",
    "\n",
    "state.ds <- as.matrix(state)\n",
    "\n",
    "class(state.ds)\n",
    "\n",
    "Conversion <- gsub('[^a-zA-Z0-9 ]',' ', state.ds)\n",
    "locations_df <- geocode(Conversion)\n",
    "write.csv(locations_df, \"LatLon_Locations.csv\")\n",
    "loc = read.csv(file.choose())\n",
    "print(loc)\n",
    "\n",
    "install.packages(\"revgeo\") #1-500\n",
    "library(\"revgeo\")\n",
    "revgeo_df <- revgeo(longitude = loc$lon, latitude = loc$lat, output = 'frame')\n",
    "\n",
    "write.csv(revgeo_df,\"states1.csv\")\n",
    "\n",
    "library(revgeo)\n",
    "loc1 = read.csv(file.choose()) #500-100\n",
    "print(loc1)\n",
    "revgeo_df1 <- revgeo(longitude = loc1$lon, latitude = loc1$lat, output = 'frame')\n",
    "write.csv(revgeo_df1,\"states1.csv\")\n",
    "\n",
    "\n",
    "\n",
    "loc2 = read.csv(file.choose()) #500-100\n",
    "print(loc2)\n",
    "revgeo_df2 <- revgeo(longitude = loc2$lon, latitude = loc2$lat, output = 'frame')\n",
    "write.csv(revgeo_df2,\"states2.csv\")\n",
    "\n",
    "\n",
    "loc3 = read.csv(file.choose())\n",
    "print(loc3)\n",
    "revgeo_df3 <- revgeo(longitude = loc3$lon, latitude = loc3$lat, output = 'frame')\n",
    "write.csv(revgeo_df3,\"states3.csv\")\n",
    "\n",
    "\n",
    "\n",
    "loc4 = read.csv(file.choose())\n",
    "print(loc4)\n",
    "revgeo_df4 <- revgeo(longitude = loc4$lon, latitude = loc4$lat, output = 'frame')\n",
    "write.csv(revgeo_df4,\"states4.csv\")\n",
    "\n",
    "library(revgeo)\n",
    "loc5 = read.csv(file.choose())\n",
    "print(loc5)\n",
    "revgeo_df5 <- revgeo(longitude = loc5$lon, latitude = loc5$lat, output = 'frame')\n",
    "print(revgeo_df5)\n",
    "write.csv(revgeo_df5,\"states5.csv\")\n",
    "\n",
    "\n",
    "loc6 = read.csv(file.choose()) #2500\n",
    "print(loc6)\n",
    "revgeo_df6 <- revgeo(longitude = loc6$lon, latitude = loc6$lat, output = 'frame')\n",
    "print(revgeo_df6)\n",
    "write.csv(revgeo_df6,\"states6.csv\")\n",
    "\n",
    "\n",
    "loc7 = read.csv(file.choose()) #3000\n",
    "print(loc7)\n",
    "revgeo_df7 <- revgeo(longitude = loc7$lon, latitude = loc7$lat, output = 'frame')\n",
    "print(revgeo_df7)\n",
    "write.csv(revgeo_df7,\"states7.csv\")\n",
    "\n",
    "\n",
    "loc8 = read.csv(file.choose()) #3500\n",
    "print(loc8)\n",
    "revgeo_df8 <- revgeo(longitude = loc8$lon, latitude = loc8$lat, output = 'frame')\n",
    "print(revgeo_df8)\n",
    "write.csv(revgeo_df8,\"states8.csv\")\n",
    "\n",
    "\n",
    "\n",
    "loc9 = read.csv(file.choose()) #4500\n",
    "print(loc9)\n",
    "revgeo_df9 <- revgeo(longitude = loc9$lon, latitude = loc9$lat, output = 'frame')\n",
    "print(revgeo_df9)\n",
    "write.csv(revgeo_df9,\"states9.csv\")\n",
    "\n",
    "\n",
    "loc10 = read.csv(file.choose()) #5000\n",
    "print(loc10)\n",
    "revgeo_df10<- revgeo(longitude = loc10$lon, latitude = loc10$lat, output = 'frame')\n",
    "print(revgeo_df10)\n",
    "write.csv(revgeo_df10,\"states10.csv\")\n",
    "\n",
    "\n",
    "install.packages(\"rbind\")\n",
    "library(\"rbind\")\n",
    "\n",
    "full <- rbind(revgeo_df1,revgeo_df2,revgeo_df3,revgeo_df4,revgeo_df5,revgeo_df6,revgeo_df7,\n",
    "              revgeo_df8,revgeo_df9,revgeo_df10)\n",
    "\n",
    "\n",
    "write.csv(full,\"final_states.csv\")\n",
    "\n",
    "tab <- table(full$state)\n",
    "print(tab)\n",
    "\n",
    "write.csv(tab,\"states_freq.csv\")\n"
   ]
  },
  {
   "cell_type": "code",
   "execution_count": 3,
   "metadata": {},
   "outputs": [
    {
     "data": {},
     "metadata": {},
     "output_type": "display_data"
    },
    {
     "data": {
      "image/png": "[encoded data removed]",
      "text/plain": [
       "plot without title"
      ]
     },
     "metadata": {},
     "output_type": "display_data"
    }
   ],
   "source": [
    "library(ggplot2)\n",
    "library(fiftystater)\n",
    "heat<-read.csv(file.choose())\n",
    "heat$Freq<-as.integer(gsub(\"[^0-9\\\\.]\", \"\", heat$Freq))\n",
    "\n",
    "ili <- data.frame(state = tolower(heat$Var1), heat$Freq)\n",
    "library(ggmap)\n",
    "# map_id creates the aesthetic mapping to the state name column in your data\n",
    "ggplot(ili, aes(map_id = state)) + \n",
    "  # map points to the fifty_states shape data\n",
    "  geom_map(aes(fill = heat$Freq),color=\"black\", size=0.3, map = fifty_states) + \n",
    "\n",
    "  \n",
    "  expand_limits(x = fifty_states$long, y = fifty_states$lat) +\n",
    "  scale_x_continuous(breaks = NULL) + \n",
    "  scale_y_continuous(breaks = NULL) +\n",
    "  labs(x = \"\", y = \"\") +\n",
    "  theme(legend.position = \"right\", \n",
    "        panel.background = element_blank())+\n",
    "  scale_fill_gradient2(name=\"Heatmap for keyword\\n flu\",\n",
    "                       low=\"lightblue\", mid=\"yellow\", high=\"red\", \n",
    "                       midpoint=5, limits=range(heat$Freq))+\n",
    "  ggtitle(\"Twitter heat map collected for keyword FLU\")+\n",
    "  theme(plot.title = element_text(size=15))\n",
    "\n"
   ]
  },
  {
   "cell_type": "code",
   "execution_count": 5,
   "metadata": {},
   "outputs": [
    {
     "data": {},
     "metadata": {},
     "output_type": "display_data"
    },
    {
     "data": {
      "image/png": "[encoded data removed]",
      "text/plain": [
       "plot without title"
      ]
     },
     "metadata": {},
     "output_type": "display_data"
    }
   ],
   "source": [
    "library(ggplot2)\n",
    "library(fiftystater)\n",
    "heat<-read.csv(file.choose())\n",
    "heat$Freq<-as.integer(gsub(\"[^0-9\\\\.]\", \"\", heat$Freq))\n",
    "ili <- data.frame(state = tolower(heat$Var1), heat$Freq)\n",
    "library(ggmap)\n",
    "# map_id creates the aesthetic mapping to the state name column in your data\n",
    "ggplot(ili, aes(map_id = state)) + \n",
    "  # map points to the fifty_states shape data\n",
    "  geom_map(aes(fill = heat$Freq),color=\"black\", size=0.3, map = fifty_states) + \n",
    "\n",
    "  \n",
    "  expand_limits(x = fifty_states$long, y = fifty_states$lat) +\n",
    "  scale_x_continuous(breaks = NULL) + \n",
    "  scale_y_continuous(breaks = NULL) +\n",
    "  labs(x = \"\", y = \"\") +\n",
    "  theme(legend.position = \"right\", \n",
    "        panel.background = element_blank())+\n",
    "  scale_fill_gradient2(name=\"Heatmap for keyword\\n flu\",\n",
    "                       low=\"lightblue\", mid=\"yellow\", high=\"darkred\", \n",
    "                       midpoint=5, limits=range(heat$Freq))+\n",
    "  ggtitle(\"Twitter heat map collected for keyword Influenza\")+\n",
    "  theme(plot.title = element_text(size=15))\n"
   ]
  }
 ],
 "metadata": {
  "kernelspec": {
   "display_name": "R",
   "language": "R",
   "name": "ir"
  },
  "language_info": {
   "codemirror_mode": "r",
   "file_extension": ".r",
   "mimetype": "text/x-r-source",
   "name": "R",
   "pygments_lexer": "r",
   "version": "3.5.1"
  }
 },
 "nbformat": 4,
 "nbformat_minor": 2
}
