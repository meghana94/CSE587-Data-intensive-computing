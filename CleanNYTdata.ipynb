{
 "cells": [
  {
   "cell_type": "markdown",
   "metadata": {},
   "source": [
    "# Cleaning New York Times data by removing stopwords and unwanted characters. "
   ]
  },
  {
   "cell_type": "markdown",
   "metadata": {},
   "source": [
    "# By Meghana"
   ]
  },
  {
   "cell_type": "code",
   "execution_count": 34,
   "metadata": {},
   "outputs": [],
   "source": [
    "import pandas as pd\n",
    "import numpy as np\n",
    "import seaborn as sns\n",
    "import matplotlib.pyplot as plt\n",
    "from sklearn.feature_extraction.text import CountVectorizer\n",
    "import nltk \n",
    "import string\n",
    "import re"
   ]
  },
  {
   "cell_type": "code",
   "execution_count": 35,
   "metadata": {},
   "outputs": [],
   "source": [
    "def load_data():\n",
    "    col = ['articles','id']\n",
    "    data = pd.read_csv('NYfinalsportsresult.txt',header=None,sep='\\t',names=col)\n",
    "    print(data)\n",
    "    return data"
   ]
  },
  {
   "cell_type": "code",
   "execution_count": 36,
   "metadata": {},
   "outputs": [
    {
     "name": "stdout",
     "output_type": "stream",
     "text": [
      "                                             articles  id\n",
      "0   AdvertisementSupported byArticle of the DayBy ... NaN\n",
      "1                                By MICHAEL KIMMELMAN NaN\n",
      "2                                       AUG. 26, 2018 NaN\n",
      "3                                By MICHAEL KIMMELMAN NaN\n",
      "4                     Illustrations by ANJALI SINGHVI NaN\n",
      "5                                       AUG. 26, 2018 NaN\n",
      "6   In the mid-1970s, the clouds parted for Slew H... NaN\n",
      "7                                       By JOE WARD,  NaN\n",
      "8                                    BEDEL SAGET and  NaN\n",
      "9                                     GEOFF MACDONALD NaN\n",
      "10                                      SEPT. 1, 2018 NaN\n",
      "11  Novak Djokovic has one of the best return game... NaN\n",
      "12                               By WM. FERGUSON and  NaN\n",
      "13                                        NICK VEASEY NaN\n",
      "14                                       FEB. 1, 2018 NaN\n",
      "15  How equipment changes turned the players from ... NaN\n",
      "16          X-Rays by NICK VEASEYText by WM. FERGUSON NaN\n",
      "17                                      MARCH 6, 2018 NaN\n",
      "18  Nick Veasey is a 55-year-old photographer and ... NaN\n"
     ]
    },
    {
     "data": {
      "text/html": [
       "<div>\n",
       "<style scoped>\n",
       "    .dataframe tbody tr th:only-of-type {\n",
       "        vertical-align: middle;\n",
       "    }\n",
       "\n",
       "    .dataframe tbody tr th {\n",
       "        vertical-align: top;\n",
       "    }\n",
       "\n",
       "    .dataframe thead th {\n",
       "        text-align: right;\n",
       "    }\n",
       "</style>\n",
       "<table border=\"1\" class=\"dataframe\">\n",
       "  <thead>\n",
       "    <tr style=\"text-align: right;\">\n",
       "      <th></th>\n",
       "      <th>articles</th>\n",
       "      <th>id</th>\n",
       "    </tr>\n",
       "  </thead>\n",
       "  <tbody>\n",
       "    <tr>\n",
       "      <th>0</th>\n",
       "      <td>AdvertisementSupported byArticle of the DayBy ...</td>\n",
       "      <td>NaN</td>\n",
       "    </tr>\n",
       "    <tr>\n",
       "      <th>1</th>\n",
       "      <td>By MICHAEL KIMMELMAN</td>\n",
       "      <td>NaN</td>\n",
       "    </tr>\n",
       "    <tr>\n",
       "      <th>2</th>\n",
       "      <td>AUG. 26, 2018</td>\n",
       "      <td>NaN</td>\n",
       "    </tr>\n",
       "    <tr>\n",
       "      <th>3</th>\n",
       "      <td>By MICHAEL KIMMELMAN</td>\n",
       "      <td>NaN</td>\n",
       "    </tr>\n",
       "    <tr>\n",
       "      <th>4</th>\n",
       "      <td>Illustrations by ANJALI SINGHVI</td>\n",
       "      <td>NaN</td>\n",
       "    </tr>\n",
       "    <tr>\n",
       "      <th>5</th>\n",
       "      <td>AUG. 26, 2018</td>\n",
       "      <td>NaN</td>\n",
       "    </tr>\n",
       "    <tr>\n",
       "      <th>6</th>\n",
       "      <td>In the mid-1970s, the clouds parted for Slew H...</td>\n",
       "      <td>NaN</td>\n",
       "    </tr>\n",
       "    <tr>\n",
       "      <th>7</th>\n",
       "      <td>By JOE WARD,</td>\n",
       "      <td>NaN</td>\n",
       "    </tr>\n",
       "    <tr>\n",
       "      <th>8</th>\n",
       "      <td>BEDEL SAGET and</td>\n",
       "      <td>NaN</td>\n",
       "    </tr>\n",
       "    <tr>\n",
       "      <th>9</th>\n",
       "      <td>GEOFF MACDONALD</td>\n",
       "      <td>NaN</td>\n",
       "    </tr>\n",
       "    <tr>\n",
       "      <th>10</th>\n",
       "      <td>SEPT. 1, 2018</td>\n",
       "      <td>NaN</td>\n",
       "    </tr>\n",
       "    <tr>\n",
       "      <th>11</th>\n",
       "      <td>Novak Djokovic has one of the best return game...</td>\n",
       "      <td>NaN</td>\n",
       "    </tr>\n",
       "    <tr>\n",
       "      <th>12</th>\n",
       "      <td>By WM. FERGUSON and</td>\n",
       "      <td>NaN</td>\n",
       "    </tr>\n",
       "    <tr>\n",
       "      <th>13</th>\n",
       "      <td>NICK VEASEY</td>\n",
       "      <td>NaN</td>\n",
       "    </tr>\n",
       "    <tr>\n",
       "      <th>14</th>\n",
       "      <td>FEB. 1, 2018</td>\n",
       "      <td>NaN</td>\n",
       "    </tr>\n",
       "    <tr>\n",
       "      <th>15</th>\n",
       "      <td>How equipment changes turned the players from ...</td>\n",
       "      <td>NaN</td>\n",
       "    </tr>\n",
       "    <tr>\n",
       "      <th>16</th>\n",
       "      <td>X-Rays by NICK VEASEYText by WM. FERGUSON</td>\n",
       "      <td>NaN</td>\n",
       "    </tr>\n",
       "    <tr>\n",
       "      <th>17</th>\n",
       "      <td>MARCH 6, 2018</td>\n",
       "      <td>NaN</td>\n",
       "    </tr>\n",
       "    <tr>\n",
       "      <th>18</th>\n",
       "      <td>Nick Veasey is a 55-year-old photographer and ...</td>\n",
       "      <td>NaN</td>\n",
       "    </tr>\n",
       "  </tbody>\n",
       "</table>\n",
       "</div>"
      ],
      "text/plain": [
       "                                             articles  id\n",
       "0   AdvertisementSupported byArticle of the DayBy ... NaN\n",
       "1                                By MICHAEL KIMMELMAN NaN\n",
       "2                                       AUG. 26, 2018 NaN\n",
       "3                                By MICHAEL KIMMELMAN NaN\n",
       "4                     Illustrations by ANJALI SINGHVI NaN\n",
       "5                                       AUG. 26, 2018 NaN\n",
       "6   In the mid-1970s, the clouds parted for Slew H... NaN\n",
       "7                                       By JOE WARD,  NaN\n",
       "8                                    BEDEL SAGET and  NaN\n",
       "9                                     GEOFF MACDONALD NaN\n",
       "10                                      SEPT. 1, 2018 NaN\n",
       "11  Novak Djokovic has one of the best return game... NaN\n",
       "12                               By WM. FERGUSON and  NaN\n",
       "13                                        NICK VEASEY NaN\n",
       "14                                       FEB. 1, 2018 NaN\n",
       "15  How equipment changes turned the players from ... NaN\n",
       "16          X-Rays by NICK VEASEYText by WM. FERGUSON NaN\n",
       "17                                      MARCH 6, 2018 NaN\n",
       "18  Nick Veasey is a 55-year-old photographer and ... NaN"
      ]
     },
     "execution_count": 36,
     "metadata": {},
     "output_type": "execute_result"
    }
   ],
   "source": [
    "NYT_df = load_data()\n",
    "NYT_df.head(1000)"
   ]
  },
  {
   "cell_type": "code",
   "execution_count": 37,
   "metadata": {},
   "outputs": [],
   "source": [
    "df  = pd.DataFrame(NYT_df[['articles', 'id']])"
   ]
  },
  {
   "cell_type": "code",
   "execution_count": 38,
   "metadata": {},
   "outputs": [
    {
     "data": {
      "text/plain": [
       "'!\"#$%&\\'()*+,-./:;<=>?@[\\\\]^_`{|}~'"
      ]
     },
     "execution_count": 38,
     "metadata": {},
     "output_type": "execute_result"
    }
   ],
   "source": [
    "string.punctuation"
   ]
  },
  {
   "cell_type": "code",
   "execution_count": 39,
   "metadata": {},
   "outputs": [
    {
     "data": {
      "text/plain": [
       "0     advertisementsupported byarticle of the dayby ...\n",
       "1                                  by michael kimmelman\n",
       "2                                                  aug \n",
       "3                                  by michael kimmelman\n",
       "4                       illustrations by anjali singhvi\n",
       "5                                                  aug \n",
       "6     in the mid-s the clouds parted for slew hester...\n",
       "7                                          by joe ward \n",
       "8                                      bedel saget and \n",
       "9                                       geoff macdonald\n",
       "10                                                sept \n",
       "11    novak djokovic has one of the best return game...\n",
       "12                                  by wm ferguson and \n",
       "13                                          nick veasey\n",
       "14                                                 feb \n",
       "15    how equipment changes turned the players from ...\n",
       "16             x-rays by nick veaseytext by wm ferguson\n",
       "17                                               march \n",
       "18    nick veasey is a -year-old photographer and so...\n",
       "Name: articles, dtype: object"
      ]
     },
     "execution_count": 39,
     "metadata": {},
     "output_type": "execute_result"
    }
   ],
   "source": [
    "df['articles'] = df['articles'].apply(lambda x: re.sub('[!@#$:).;—,?&_]', '', x.lower()))\n",
    "df['articles'] = df['articles'].apply(lambda x: re.sub('[0-9]+', '', x.lower()))\n",
    "df['articles'] = df['articles'].apply(lambda x: re.sub('  ', ' ', x))\n",
    "df['articles'].head(1000)"
   ]
  },
  {
   "cell_type": "code",
   "execution_count": 40,
   "metadata": {},
   "outputs": [
    {
     "data": {
      "text/plain": [
       "0     advertisementsupported byarticle of the dayby ...\n",
       "1                                  by michael kimmelman\n",
       "2                                                  aug \n",
       "3                                  by michael kimmelman\n",
       "4                       illustrations by anjali singhvi\n",
       "5                                                  aug \n",
       "6     in the mids the clouds parted for slew hester ...\n",
       "7                                          by joe ward \n",
       "8                                      bedel saget and \n",
       "9                                       geoff macdonald\n",
       "10                                                sept \n",
       "11    novak djokovic has one of the best return game...\n",
       "12                                  by wm ferguson and \n",
       "13                                          nick veasey\n",
       "14                                                 feb \n",
       "15    how equipment changes turned the players from ...\n",
       "16              xrays by nick veaseytext by wm ferguson\n",
       "17                                               march \n",
       "18    nick veasey is a yearold photographer and socc...\n",
       "Name: articles, dtype: object"
      ]
     },
     "execution_count": 40,
     "metadata": {},
     "output_type": "execute_result"
    }
   ],
   "source": [
    "def remove_punct(text):\n",
    "    text  = \"\".join([char for char in text if char not in string.punctuation])\n",
    "    text = re.sub('[0-9]+', '', text)\n",
    "    return text\n",
    "\n",
    "df['articles'] = df['articles'].apply(lambda x: remove_punct(x))\n",
    "df['articles'].head(100)"
   ]
  },
  {
   "cell_type": "code",
   "execution_count": 41,
   "metadata": {},
   "outputs": [],
   "source": [
    "df[\"token\"] = df[\"articles\"].apply(nltk.word_tokenize)"
   ]
  },
  {
   "cell_type": "code",
   "execution_count": 42,
   "metadata": {},
   "outputs": [
    {
     "data": {
      "text/html": [
       "<div>\n",
       "<style scoped>\n",
       "    .dataframe tbody tr th:only-of-type {\n",
       "        vertical-align: middle;\n",
       "    }\n",
       "\n",
       "    .dataframe tbody tr th {\n",
       "        vertical-align: top;\n",
       "    }\n",
       "\n",
       "    .dataframe thead th {\n",
       "        text-align: right;\n",
       "    }\n",
       "</style>\n",
       "<table border=\"1\" class=\"dataframe\">\n",
       "  <thead>\n",
       "    <tr style=\"text-align: right;\">\n",
       "      <th></th>\n",
       "      <th>articles</th>\n",
       "      <th>id</th>\n",
       "      <th>token</th>\n",
       "    </tr>\n",
       "  </thead>\n",
       "  <tbody>\n",
       "    <tr>\n",
       "      <th>0</th>\n",
       "      <td>advertisementsupported byarticle of the dayby ...</td>\n",
       "      <td>NaN</td>\n",
       "      <td>[advertisementsupported, byarticle, of, the, d...</td>\n",
       "    </tr>\n",
       "    <tr>\n",
       "      <th>1</th>\n",
       "      <td>by michael kimmelman</td>\n",
       "      <td>NaN</td>\n",
       "      <td>[by, michael, kimmelman]</td>\n",
       "    </tr>\n",
       "    <tr>\n",
       "      <th>2</th>\n",
       "      <td>aug</td>\n",
       "      <td>NaN</td>\n",
       "      <td>[aug]</td>\n",
       "    </tr>\n",
       "    <tr>\n",
       "      <th>3</th>\n",
       "      <td>by michael kimmelman</td>\n",
       "      <td>NaN</td>\n",
       "      <td>[by, michael, kimmelman]</td>\n",
       "    </tr>\n",
       "    <tr>\n",
       "      <th>4</th>\n",
       "      <td>illustrations by anjali singhvi</td>\n",
       "      <td>NaN</td>\n",
       "      <td>[illustrations, by, anjali, singhvi]</td>\n",
       "    </tr>\n",
       "    <tr>\n",
       "      <th>5</th>\n",
       "      <td>aug</td>\n",
       "      <td>NaN</td>\n",
       "      <td>[aug]</td>\n",
       "    </tr>\n",
       "    <tr>\n",
       "      <th>6</th>\n",
       "      <td>in the mids the clouds parted for slew hester ...</td>\n",
       "      <td>NaN</td>\n",
       "      <td>[in, the, mids, the, clouds, parted, for, slew...</td>\n",
       "    </tr>\n",
       "    <tr>\n",
       "      <th>7</th>\n",
       "      <td>by joe ward</td>\n",
       "      <td>NaN</td>\n",
       "      <td>[by, joe, ward]</td>\n",
       "    </tr>\n",
       "    <tr>\n",
       "      <th>8</th>\n",
       "      <td>bedel saget and</td>\n",
       "      <td>NaN</td>\n",
       "      <td>[bedel, saget, and]</td>\n",
       "    </tr>\n",
       "    <tr>\n",
       "      <th>9</th>\n",
       "      <td>geoff macdonald</td>\n",
       "      <td>NaN</td>\n",
       "      <td>[geoff, macdonald]</td>\n",
       "    </tr>\n",
       "    <tr>\n",
       "      <th>10</th>\n",
       "      <td>sept</td>\n",
       "      <td>NaN</td>\n",
       "      <td>[sept]</td>\n",
       "    </tr>\n",
       "    <tr>\n",
       "      <th>11</th>\n",
       "      <td>novak djokovic has one of the best return game...</td>\n",
       "      <td>NaN</td>\n",
       "      <td>[novak, djokovic, has, one, of, the, best, ret...</td>\n",
       "    </tr>\n",
       "    <tr>\n",
       "      <th>12</th>\n",
       "      <td>by wm ferguson and</td>\n",
       "      <td>NaN</td>\n",
       "      <td>[by, wm, ferguson, and]</td>\n",
       "    </tr>\n",
       "    <tr>\n",
       "      <th>13</th>\n",
       "      <td>nick veasey</td>\n",
       "      <td>NaN</td>\n",
       "      <td>[nick, veasey]</td>\n",
       "    </tr>\n",
       "    <tr>\n",
       "      <th>14</th>\n",
       "      <td>feb</td>\n",
       "      <td>NaN</td>\n",
       "      <td>[feb]</td>\n",
       "    </tr>\n",
       "    <tr>\n",
       "      <th>15</th>\n",
       "      <td>how equipment changes turned the players from ...</td>\n",
       "      <td>NaN</td>\n",
       "      <td>[how, equipment, changes, turned, the, players...</td>\n",
       "    </tr>\n",
       "    <tr>\n",
       "      <th>16</th>\n",
       "      <td>xrays by nick veaseytext by wm ferguson</td>\n",
       "      <td>NaN</td>\n",
       "      <td>[xrays, by, nick, veaseytext, by, wm, ferguson]</td>\n",
       "    </tr>\n",
       "    <tr>\n",
       "      <th>17</th>\n",
       "      <td>march</td>\n",
       "      <td>NaN</td>\n",
       "      <td>[march]</td>\n",
       "    </tr>\n",
       "    <tr>\n",
       "      <th>18</th>\n",
       "      <td>nick veasey is a yearold photographer and socc...</td>\n",
       "      <td>NaN</td>\n",
       "      <td>[nick, veasey, is, a, yearold, photographer, a...</td>\n",
       "    </tr>\n",
       "  </tbody>\n",
       "</table>\n",
       "</div>"
      ],
      "text/plain": [
       "                                             articles  id  \\\n",
       "0   advertisementsupported byarticle of the dayby ... NaN   \n",
       "1                                by michael kimmelman NaN   \n",
       "2                                                aug  NaN   \n",
       "3                                by michael kimmelman NaN   \n",
       "4                     illustrations by anjali singhvi NaN   \n",
       "5                                                aug  NaN   \n",
       "6   in the mids the clouds parted for slew hester ... NaN   \n",
       "7                                        by joe ward  NaN   \n",
       "8                                    bedel saget and  NaN   \n",
       "9                                     geoff macdonald NaN   \n",
       "10                                              sept  NaN   \n",
       "11  novak djokovic has one of the best return game... NaN   \n",
       "12                                by wm ferguson and  NaN   \n",
       "13                                        nick veasey NaN   \n",
       "14                                               feb  NaN   \n",
       "15  how equipment changes turned the players from ... NaN   \n",
       "16            xrays by nick veaseytext by wm ferguson NaN   \n",
       "17                                             march  NaN   \n",
       "18  nick veasey is a yearold photographer and socc... NaN   \n",
       "\n",
       "                                                token  \n",
       "0   [advertisementsupported, byarticle, of, the, d...  \n",
       "1                            [by, michael, kimmelman]  \n",
       "2                                               [aug]  \n",
       "3                            [by, michael, kimmelman]  \n",
       "4                [illustrations, by, anjali, singhvi]  \n",
       "5                                               [aug]  \n",
       "6   [in, the, mids, the, clouds, parted, for, slew...  \n",
       "7                                     [by, joe, ward]  \n",
       "8                                 [bedel, saget, and]  \n",
       "9                                  [geoff, macdonald]  \n",
       "10                                             [sept]  \n",
       "11  [novak, djokovic, has, one, of, the, best, ret...  \n",
       "12                            [by, wm, ferguson, and]  \n",
       "13                                     [nick, veasey]  \n",
       "14                                              [feb]  \n",
       "15  [how, equipment, changes, turned, the, players...  \n",
       "16    [xrays, by, nick, veaseytext, by, wm, ferguson]  \n",
       "17                                            [march]  \n",
       "18  [nick, veasey, is, a, yearold, photographer, a...  "
      ]
     },
     "execution_count": 42,
     "metadata": {},
     "output_type": "execute_result"
    }
   ],
   "source": [
    "df[\"token\"] = df.apply(lambda row: nltk.word_tokenize(row[\"articles\"]), axis=1)\n",
    "df.head(100)"
   ]
  },
  {
   "cell_type": "code",
   "execution_count": 43,
   "metadata": {},
   "outputs": [
    {
     "name": "stdout",
     "output_type": "stream",
     "text": [
      "['i', 'me', 'my', 'myself', 'we', 'our', 'ours', 'ourselves', 'you', \"you're\", \"you've\", \"you'll\", \"you'd\", 'your', 'yours', 'yourself', 'yourselves', 'he', 'him', 'his', 'himself', 'she', \"she's\", 'her', 'hers', 'herself', 'it', \"it's\", 'its', 'itself', 'they', 'them', 'their', 'theirs', 'themselves', 'what', 'which', 'who', 'whom', 'this', 'that', \"that'll\", 'these', 'those', 'am', 'is', 'are', 'was', 'were', 'be', 'been', 'being', 'have', 'has', 'had', 'having', 'do', 'does', 'did', 'doing', 'a', 'an', 'the', 'and', 'but', 'if', 'or', 'because', 'as', 'until', 'while', 'of', 'at', 'by', 'for', 'with', 'about', 'against', 'between', 'into', 'through', 'during', 'before', 'after', 'above', 'below', 'to', 'from', 'up', 'down', 'in', 'out', 'on', 'off', 'over', 'under', 'again', 'further', 'then', 'once', 'here', 'there', 'when', 'where', 'why', 'how', 'all', 'any', 'both', 'each', 'few', 'more', 'most', 'other', 'some', 'such', 'no', 'nor', 'not', 'only', 'own', 'same', 'so', 'than', 'too', 'very', 's', 't', 'can', 'will', 'just', 'don', \"don't\", 'should', \"should've\", 'now', 'd', 'll', 'm', 'o', 're', 've', 'y', 'ain', 'aren', \"aren't\", 'couldn', \"couldn't\", 'didn', \"didn't\", 'doesn', \"doesn't\", 'hadn', \"hadn't\", 'hasn', \"hasn't\", 'haven', \"haven't\", 'isn', \"isn't\", 'ma', 'mightn', \"mightn't\", 'mustn', \"mustn't\", 'needn', \"needn't\", 'shan', \"shan't\", 'shouldn', \"shouldn't\", 'wasn', \"wasn't\", 'weren', \"weren't\", 'won', \"won't\", 'wouldn', \"wouldn't\"]\n"
     ]
    }
   ],
   "source": [
    "import nltk\n",
    "from nltk.corpus import stopwords\n",
    "set(stopwords.words('english'))\n",
    "\n",
    "\n",
    "\n",
    "stop = stopwords.words('english')\n",
    "print(stop)\n",
    "\n"
   ]
  },
  {
   "cell_type": "code",
   "execution_count": 44,
   "metadata": {},
   "outputs": [
    {
     "data": {
      "text/plain": [
       "0     [advertisementsupported, byarticle, dayby, jer...\n",
       "1                                  [michael, kimmelman]\n",
       "2                                                 [aug]\n",
       "3                                  [michael, kimmelman]\n",
       "4                      [illustrations, anjali, singhvi]\n",
       "5                                                 [aug]\n",
       "6     [mids, clouds, parted, slew, hester, president...\n",
       "7                                           [joe, ward]\n",
       "8                                        [bedel, saget]\n",
       "9                                    [geoff, macdonald]\n",
       "10                                               [sept]\n",
       "11    [novak, djokovic, one, best, return, games, te...\n",
       "12                                       [wm, ferguson]\n",
       "13                                       [nick, veasey]\n",
       "14                                                [feb]\n",
       "15    [equipment, changes, turned, players, artists,...\n",
       "16              [xrays, nick, veaseytext, wm, ferguson]\n",
       "17                                              [march]\n",
       "18    [nick, veasey, yearold, photographer, soccer, ...\n",
       "Name: Tokenstopwords, dtype: object"
      ]
     },
     "execution_count": 44,
     "metadata": {},
     "output_type": "execute_result"
    }
   ],
   "source": [
    "df['Tokenstopwords']  =  df['token'].apply(lambda x: [item for item in x if item not in stop])\n",
    "df['Tokenstopwords'].head(100)\n"
   ]
  },
  {
   "cell_type": "code",
   "execution_count": 45,
   "metadata": {},
   "outputs": [
    {
     "data": {
      "text/plain": [
       "0     advertisementsupported byarticle dayby jeremy ...\n",
       "1                                     michael kimmelman\n",
       "2                                                   aug\n",
       "3                                     michael kimmelman\n",
       "4                          illustrations anjali singhvi\n",
       "5                                                   aug\n",
       "6     mids clouds parted slew hester president unite...\n",
       "7                                              joe ward\n",
       "8                                           bedel saget\n",
       "9                                       geoff macdonald\n",
       "10                                                 sept\n",
       "11    novak djokovic one best return games tennishe ...\n",
       "12                                          wm ferguson\n",
       "13                                          nick veasey\n",
       "14                                                  feb\n",
       "15    equipment changes turned players artists techn...\n",
       "16                    xrays nick veaseytext wm ferguson\n",
       "17                                                march\n",
       "18    nick veasey yearold photographer soccer fan ne...\n",
       "Name: articlestopwords, dtype: object"
      ]
     },
     "execution_count": 45,
     "metadata": {},
     "output_type": "execute_result"
    }
   ],
   "source": [
    "df['articlestopwords'] = df['articles'].apply(lambda x: \" \".join(x for x in x.split() if x not in stop))\n",
    "df['articlestopwords'].head(100)"
   ]
  },
  {
   "cell_type": "code",
   "execution_count": 46,
   "metadata": {},
   "outputs": [
    {
     "data": {
      "text/plain": [
       "said       3263\n",
       "players    1403\n",
       "first      1362\n",
       "one        1322\n",
       "woods      1272\n",
       "team       1265\n",
       "game       1016\n",
       "last        979\n",
       "like        977\n",
       "would       940\n",
       "dtype: int64"
      ]
     },
     "execution_count": 46,
     "metadata": {},
     "output_type": "execute_result"
    }
   ],
   "source": [
    "freq = pd.Series(' '.join(df['articlestopwords']).split()).value_counts()[:10]\n",
    "freq"
   ]
  },
  {
   "cell_type": "code",
   "execution_count": 47,
   "metadata": {},
   "outputs": [
    {
     "name": "stderr",
     "output_type": "stream",
     "text": [
      "C:\\Users\\megz1\\Anaconda3\\lib\\site-packages\\ipykernel_launcher.py:1: FutureWarning: The signature of `Series.to_csv` was aligned to that of `DataFrame.to_csv`, and argument 'header' will change its default value from False to True: please pass an explicit value to suppress this warning.\n",
      "  \"\"\"Entry point for launching an IPython kernel.\n",
      "C:\\Users\\megz1\\Anaconda3\\lib\\site-packages\\ipykernel_launcher.py:2: FutureWarning: The signature of `Series.to_csv` was aligned to that of `DataFrame.to_csv`, and argument 'header' will change its default value from False to True: please pass an explicit value to suppress this warning.\n",
      "  \n"
     ]
    }
   ],
   "source": [
    "df['articlestopwords'].to_csv(\"cleanArticleNonToken.txt\")\n",
    "df['Tokenstopwords'].to_csv(\"cleanArticleToken.txt\")"
   ]
  },
  {
   "cell_type": "code",
   "execution_count": null,
   "metadata": {},
   "outputs": [],
   "source": []
  }
 ],
 "metadata": {
  "kernelspec": {
   "display_name": "Python 3",
   "language": "python",
   "name": "python3"
  },
  "language_info": {
   "codemirror_mode": {
    "name": "ipython",
    "version": 3
   },
   "file_extension": ".py",
   "mimetype": "text/x-python",
   "name": "python",
   "nbconvert_exporter": "python",
   "pygments_lexer": "ipython3",
   "version": "3.6.7"
  }
 },
 "nbformat": 4,
 "nbformat_minor": 2
}
