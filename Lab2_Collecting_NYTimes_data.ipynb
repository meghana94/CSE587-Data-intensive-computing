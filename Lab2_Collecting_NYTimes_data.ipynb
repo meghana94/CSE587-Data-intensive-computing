{
 "cells": [
  {
   "cell_type": "markdown",
   "metadata": {},
   "source": [
    "# Extracting New York Times Data "
   ]
  },
  {
   "cell_type": "markdown",
   "metadata": {},
   "source": [
    "# By Meghana and Divya"
   ]
  },
  {
   "cell_type": "code",
   "execution_count": 3,
   "metadata": {},
   "outputs": [
    {
     "name": "stdout",
     "output_type": "stream",
     "text": [
      "We got only 4  articles for selected period\n"
     ]
    }
   ],
   "source": [
    "from nytimesarticle import articleAPI\n",
    "from bs4 import BeautifulSoup\n",
    "import requests\n",
    "api = articleAPI(\"vCv5oYxU1sxqKYEM4fyD97hjGpnrJ7t9\")\n",
    "f=open('NYSport.txt','w')\n",
    "links=[]\n",
    "try:\n",
    "    for a in range(0,100):\n",
    "        articles = api.search(q=\"game\", begin_date=20190101,end_date=201904016,page=a)\n",
    "        for i in range(0,len(articles['response']['docs'])):\n",
    "            url = articles['response']['docs'][i]['web_url']\n",
    "            data = requests.get(url)\n",
    "            soup = BeautifulSoup(data.content, 'html.parser')\n",
    "            soup.prettify()\n",
    "            for j in range((len(soup.find_all('p')))-3):\n",
    "                f.write(soup.find_all('p')[j].get_text())\n",
    "\n",
    "            #print(url)\n",
    "            links.append(url)\n",
    "    f.close()\n",
    "except:\n",
    "    print(\"We got only\",len(links),\" articles for selected period\")\n",
    "    \n"
   ]
  },
  {
   "cell_type": "code",
   "execution_count": 4,
   "metadata": {},
   "outputs": [
    {
     "name": "stdout",
     "output_type": "stream",
     "text": [
      "We got only 90  articles for selected period\n"
     ]
    }
   ],
   "source": [
    "from nytimesarticle import articleAPI\n",
    "from bs4 import BeautifulSoup\n",
    "import requests\n",
    "api = articleAPI(\"vCv5oYxU1sxqKYEM4fyD97hjGpnrJ7t9\")\n",
    "f=open('NYcricket.txt','w')\n",
    "links=[]\n",
    "try:\n",
    "    for a in range(0,100):\n",
    "        articles = api.search(q=\"Cricket\", begin_date=20190101,end_date=201904016,page=a)\n",
    "        for i in range(0,len(articles['response']['docs'])):\n",
    "            url = articles['response']['docs'][i]['web_url']\n",
    "            data = requests.get(url)\n",
    "            soup = BeautifulSoup(data.content, 'html.parser')\n",
    "            soup.prettify()\n",
    "            for j in range((len(soup.find_all('p')))-3):\n",
    "                f.write(soup.find_all('p')[j].get_text())\n",
    "\n",
    "            #print(url)\n",
    "            links.append(url)\n",
    "    f.close()\n",
    "except:\n",
    "    print(\"We got only\",len(links),\" articles for selected period\")\n",
    "    \n"
   ]
  },
  {
   "cell_type": "code",
   "execution_count": 4,
   "metadata": {},
   "outputs": [
    {
     "name": "stdout",
     "output_type": "stream",
     "text": [
      "We got only 5  articles for selected period\n"
     ]
    }
   ],
   "source": [
    "from nytimesarticle import articleAPI\n",
    "from bs4 import BeautifulSoup\n",
    "import requests\n",
    "api = articleAPI(\"vCv5oYxU1sxqKYEM4fyD97hjGpnrJ7t9\")\n",
    "f=open('NYbaseball.txt','w')\n",
    "links=[]\n",
    "try:\n",
    "    for a in range(0,100):\n",
    "        articles = api.search(q=\"baseball\", begin_date=20190101,end_date=201904016,page=a)\n",
    "        for i in range(0,len(articles['response']['docs'])):\n",
    "            url = articles['response']['docs'][i]['web_url']\n",
    "            data = requests.get(url)\n",
    "            soup = BeautifulSoup(data.content, 'html.parser')\n",
    "            soup.prettify()\n",
    "            for j in range((len(soup.find_all('p')))-3):\n",
    "                f.write(soup.find_all('p')[j].get_text())\n",
    "\n",
    "            #print(url)\n",
    "            links.append(url)\n",
    "    f.close()\n",
    "except:\n",
    "    print(\"We got only\",len(links),\" articles for selected period\")\n",
    "    \n"
   ]
  },
  {
   "cell_type": "code",
   "execution_count": 5,
   "metadata": {},
   "outputs": [
    {
     "name": "stdout",
     "output_type": "stream",
     "text": [
      "We got only 128  articles for selected period\n"
     ]
    }
   ],
   "source": [
    "from nytimesarticle import articleAPI\n",
    "from bs4 import BeautifulSoup\n",
    "import requests\n",
    "api = articleAPI(\"vCv5oYxU1sxqKYEM4fyD97hjGpnrJ7t9\")\n",
    "f=open('NYhockey.txt','w')\n",
    "links=[]\n",
    "try:\n",
    "    for a in range(0,100):\n",
    "        articles = api.search(q=\"hockey\", begin_date=20190101,end_date=201904016,page=a)\n",
    "        for i in range(0,len(articles['response']['docs'])):\n",
    "            url = articles['response']['docs'][i]['web_url']\n",
    "            data = requests.get(url)\n",
    "            soup = BeautifulSoup(data.content, 'html.parser')\n",
    "            soup.prettify()\n",
    "            for j in range((len(soup.find_all('p')))-3):\n",
    "                f.write(soup.find_all('p')[j].get_text())\n",
    "\n",
    "            #print(url)\n",
    "            links.append(url)\n",
    "    f.close()\n",
    "except:\n",
    "    print(\"We got only\",len(links),\" articles for selected period\")\n",
    "    \n"
   ]
  },
  {
   "cell_type": "code",
   "execution_count": 7,
   "metadata": {},
   "outputs": [
    {
     "name": "stdout",
     "output_type": "stream",
     "text": [
      "We got only 60  articles for selected period\n"
     ]
    }
   ],
   "source": [
    "from nytimesarticle import articleAPI\n",
    "from bs4 import BeautifulSoup\n",
    "import requests\n",
    "api = articleAPI(\"vCv5oYxU1sxqKYEM4fyD97hjGpnrJ7t9\")\n",
    "f=open('NYtennisSW.txt','w')\n",
    "links=[]\n",
    "try:\n",
    "    for a in range(0,100):\n",
    "        articles = api.search(q=\"Serena Williams\", begin_date=20190101,end_date=201904016,page=a)\n",
    "        for i in range(0,len(articles['response']['docs'])):\n",
    "            url = articles['response']['docs'][i]['web_url']\n",
    "            data = requests.get(url)\n",
    "            soup = BeautifulSoup(data.content, 'html.parser')\n",
    "            soup.prettify()\n",
    "            for j in range((len(soup.find_all('p')))-3):\n",
    "                f.write(soup.find_all('p')[j].get_text())\n",
    "\n",
    "            #print(url)\n",
    "            links.append(url)\n",
    "    f.close()\n",
    "except:\n",
    "    print(\"We got only\",len(links),\" articles for selected period\")\n",
    "    \n"
   ]
  },
  {
   "cell_type": "code",
   "execution_count": 10,
   "metadata": {},
   "outputs": [
    {
     "name": "stdout",
     "output_type": "stream",
     "text": [
      "We got only 94  articles for selected period\n"
     ]
    }
   ],
   "source": [
    "from nytimesarticle import articleAPI\n",
    "from bs4 import BeautifulSoup\n",
    "import requests\n",
    "api = articleAPI(\"vCv5oYxU1sxqKYEM4fyD97hjGpnrJ7t9\")\n",
    "f=open('NYfootball.txt','w')\n",
    "links=[]\n",
    "try:\n",
    "    for a in range(0,100):\n",
    "        articles = api.search(q=\"soccer\", begin_date=20190101,end_date=201904016,page=a)\n",
    "        for i in range(0,len(articles['response']['docs'])):\n",
    "            url = articles['response']['docs'][i]['web_url']\n",
    "            data = requests.get(url)\n",
    "            soup = BeautifulSoup(data.content, 'html.parser')\n",
    "            soup.prettify()\n",
    "            for j in range((len(soup.find_all('p')))-3):\n",
    "                f.write(soup.find_all('p')[j].get_text())\n",
    "\n",
    "            #print(url)\n",
    "            links.append(url)\n",
    "    f.close()\n",
    "except:\n",
    "    print(\"We got only\",len(links),\" articles for selected period\")\n",
    "    \n"
   ]
  },
  {
   "cell_type": "code",
   "execution_count": 6,
   "metadata": {},
   "outputs": [
    {
     "name": "stdout",
     "output_type": "stream",
     "text": [
      "We got only 127  articles for selected period\n"
     ]
    }
   ],
   "source": [
    "from nytimesarticle import articleAPI\n",
    "from bs4 import BeautifulSoup\n",
    "import requests\n",
    "api = articleAPI(\"vCv5oYxU1sxqKYEM4fyD97hjGpnrJ7t9\")\n",
    "f=open('NYgolfTW.txt','w')\n",
    "links=[]\n",
    "try:\n",
    "    for a in range(0,100):\n",
    "        articles = api.search(q=\"Tiger Woods\", begin_date=20190101,end_date=201904016,page=a)\n",
    "        for i in range(0,len(articles['response']['docs'])):\n",
    "            url = articles['response']['docs'][i]['web_url']\n",
    "            data = requests.get(url)\n",
    "            soup = BeautifulSoup(data.content, 'html.parser')\n",
    "            soup.prettify()\n",
    "            for j in range((len(soup.find_all('p')))-3):\n",
    "                f.write(soup.find_all('p')[j].get_text())\n",
    "\n",
    "            #print(url)\n",
    "            links.append(url)\n",
    "    f.close()\n",
    "except:\n",
    "    print(\"We got only\",len(links),\" articles for selected period\")\n",
    "    \n"
   ]
  },
  {
   "cell_type": "code",
   "execution_count": 1,
   "metadata": {},
   "outputs": [
    {
     "name": "stdout",
     "output_type": "stream",
     "text": [
      "We got only 19  articles for selected period\n"
     ]
    }
   ],
   "source": [
    "from nytimesarticle import articleAPI\n",
    "from bs4 import BeautifulSoup\n",
    "import requests\n",
    "api = articleAPI(\"vCv5oYxU1sxqKYEM4fyD97hjGpnrJ7t9\")\n",
    "f=open('NYbasketball.txt','w')\n",
    "links=[]\n",
    "try:\n",
    "    for a in range(0,100):\n",
    "        articles = api.search(q=\"basketball\", begin_date=20190101,end_date=201904016,page=a)\n",
    "        for i in range(0,len(articles['response']['docs'])):\n",
    "            url = articles['response']['docs'][i]['web_url']\n",
    "            data = requests.get(url)\n",
    "            soup = BeautifulSoup(data.content, 'html.parser')\n",
    "            soup.prettify()\n",
    "            for j in range((len(soup.find_all('p')))-3):\n",
    "                f.write(soup.find_all('p')[j].get_text())\n",
    "\n",
    "            #print(url)\n",
    "            links.append(url)\n",
    "    f.close()\n",
    "except:\n",
    "    print(\"We got only\",len(links),\" articles for selected period\")"
   ]
  },
  {
   "cell_type": "code",
   "execution_count": 8,
   "metadata": {},
   "outputs": [],
   "source": [
    "filenames = ['NYSport.txt', 'NYcricket.txt', 'NYtennis.txt', 'NYfootball.txt', 'NYgolf.txt', 'NYbaseball.txt',\n",
    "            'NYbasketball.txt', 'NYgolfTW.txt', 'NYhockey.txt', 'NYtennisSW.txt', 'NYsports.txt']\n",
    "with open('NYfinalsportsresult.txt', 'w') as outfile:\n",
    "    for fname in filenames:\n",
    "        with open(fname) as infile:\n",
    "            for line in infile:\n",
    "                outfile.write(line)"
   ]
  },
  {
   "cell_type": "code",
   "execution_count": null,
   "metadata": {},
   "outputs": [],
   "source": []
  }
 ],
 "metadata": {
  "kernelspec": {
   "display_name": "Python 3",
   "language": "python",
   "name": "python3"
  },
  "language_info": {
   "codemirror_mode": {
    "name": "ipython",
    "version": 3
   },
   "file_extension": ".py",
   "mimetype": "text/x-python",
   "name": "python",
   "nbconvert_exporter": "python",
   "pygments_lexer": "ipython3",
   "version": "3.6.7"
  }
 },
 "nbformat": 4,
 "nbformat_minor": 2
}
